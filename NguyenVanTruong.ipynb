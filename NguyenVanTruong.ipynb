{
 "cells": [
  {
   "cell_type": "code",
   "execution_count": 1,
   "id": "30c21ff8",
   "metadata": {},
   "outputs": [],
   "source": [
    "from sklearn import metrics\n",
    "from sklearn.pipeline import Pipeline\n",
    "from sklearn.feature_extraction.text import CountVectorizer,TfidfTransformer\n",
    "from sklearn.model_selection import train_test_split\n",
    "from sklearn.model_selection import cross_val_score\n",
    "from sklearn.svm import LinearSVC\n",
    "\n",
    "from preprocess_function import preprocessing\n",
    "import pandas as pd\n",
    "import matplotlib.pyplot as plt\n",
    "import warnings\n",
    "\n",
    "warnings.filterwarnings('ignore')\n",
    "\n",
    "\n",
    "from sklearn.ensemble import RandomForestClassifier\n",
    "from sklearn.neighbors import KNeighborsClassifier\n"
   ]
  },
  {
   "cell_type": "code",
   "execution_count": 2,
   "id": "cd76c32d",
   "metadata": {},
   "outputs": [
    {
     "name": "stdout",
     "output_type": "stream",
     "text": [
      "<class 'pandas.core.frame.DataFrame'>\n",
      "RangeIndex: 56076 entries, 0 to 56075\n",
      "Data columns (total 2 columns):\n",
      " #   Column   Non-Null Count  Dtype \n",
      "---  ------   --------------  ----- \n",
      " 0   comment  56076 non-null  object\n",
      " 1   label    56076 non-null  int64 \n",
      "dtypes: int64(1), object(1)\n",
      "memory usage: 876.3+ KB\n"
     ]
    }
   ],
   "source": [
    "df = pd.read_csv('dataset.csv')\n",
    "df.info()"
   ]
  },
  {
   "cell_type": "code",
   "execution_count": 3,
   "id": "ee0eadb6",
   "metadata": {},
   "outputs": [],
   "source": [
    "X_train, X_test, y_train, y_test = train_test_split(df.comment, df.label, test_size=0.2, random_state=42)"
   ]
  },
  {
   "cell_type": "code",
   "execution_count": 11,
   "id": "dca675fa",
   "metadata": {},
   "outputs": [
    {
     "name": "stdout",
     "output_type": "stream",
     "text": [
      "              precision    recall  f1-score   support\n",
      "\n",
      "           1      0.839     0.654     0.735      5301\n",
      "           0      0.741     0.888     0.808      5915\n",
      "\n",
      "    accuracy                          0.777     11216\n",
      "   macro avg      0.790     0.771     0.772     11216\n",
      "weighted avg      0.788     0.777     0.774     11216\n",
      "\n"
     ]
    }
   ],
   "source": [
    "steps = []\n",
    "\n",
    "steps.append(('tfidf', TfidfVectorizer(ngram_range=(1,2))))\n",
    "steps.append(('model', KNeighborsClassifier(n_neighbors = 8, weights='uniform')))\n",
    "\n",
    "clf = Pipeline(steps)\n",
    "clf.fit(X_train, y_train)\n",
    "y_pred = clf.predict(X_test)\n",
    "\n",
    "#REPORT\n",
    "report = metrics.classification_report(y_test, y_pred, labels=[1,0], digits=3)\n",
    "print(report)"
   ]
  },
  {
   "cell_type": "code",
   "execution_count": 12,
   "id": "30baff36",
   "metadata": {},
   "outputs": [
    {
     "name": "stdout",
     "output_type": "stream",
     "text": [
      "CROSS-VALIDATION 5 FOLDS: 0.770\n"
     ]
    }
   ],
   "source": [
    "# CROSS VALIDATION\n",
    "cross_score = cross_val_score(clf, X_train,y_train, cv=5)\n",
    "print(\"CROSS-VALIDATION 5 FOLDS: %0.3f\" % (cross_score.mean()))"
   ]
  },
  {
   "cell_type": "code",
   "execution_count": 13,
   "id": "f0a623e6",
   "metadata": {},
   "outputs": [
    {
     "name": "stdout",
     "output_type": "stream",
     "text": [
      "chất_lượng số tuyệt_vời positive positive  0\n",
      "mong cửa_hàng khắc_phục  0\n",
      "anh shiper nói_chuyện notpos   1\n"
     ]
    }
   ],
   "source": [
    "list_cmt = ['Chất lượng số  tuyệt vời','Mong shop khắc phục','Anh shipper nói chuyện ko thân thiện']\n",
    "test_list = []\n",
    "for document in list_cmt:\n",
    "    document = preprocessing(str(document))\n",
    "    test_list.append(document)\n",
    "    \n",
    "pred = clf.predict(test_list)\n",
    "for i in range(3):\n",
    "    print(test_list[i],\" \",end=\"\")\n",
    "    print(pred[i])"
   ]
  },
  {
   "cell_type": "code",
   "execution_count": null,
   "id": "fef054ef",
   "metadata": {},
   "outputs": [],
   "source": []
  }
 ],
 "metadata": {
  "kernelspec": {
   "display_name": "Python 3 (ipykernel)",
   "language": "python",
   "name": "python3"
  },
  "language_info": {
   "codemirror_mode": {
    "name": "ipython",
    "version": 3
   },
   "file_extension": ".py",
   "mimetype": "text/x-python",
   "name": "python",
   "nbconvert_exporter": "python",
   "pygments_lexer": "ipython3",
   "version": "3.9.12"
  }
 },
 "nbformat": 4,
 "nbformat_minor": 5
}
