{
 "cells": [
  {
   "cell_type": "code",
   "execution_count": 1,
   "id": "30c21ff8",
   "metadata": {},
   "outputs": [],
   "source": [
    "from sklearn import metrics\n",
    "from sklearn.pipeline import Pipeline\n",
    "from sklearn.feature_extraction.text import CountVectorizer,TfidfTransformer\n",
    "from sklearn.model_selection import train_test_split\n",
    "from sklearn.model_selection import cross_val_score\n",
    "from sklearn.svm import LinearSVC\n",
    "\n",
    "from preprocess_function import preprocessing\n",
    "import pandas as pd\n",
    "import matplotlib.pyplot as plt\n",
    "import warnings\n",
    "\n",
    "warnings.filterwarnings('ignore')"
   ]
  },
  {
   "cell_type": "code",
   "execution_count": 2,
   "id": "084c09b7",
   "metadata": {},
   "outputs": [],
   "source": [
    "# df = pd.read_csv('dataset.csv')"
   ]
  },
  {
   "cell_type": "code",
   "execution_count": 3,
   "id": "363044e5",
   "metadata": {},
   "outputs": [],
   "source": [
    "# df['comment'] = df['comment'].map(preprocessing)"
   ]
  },
  {
   "cell_type": "code",
   "execution_count": 4,
   "id": "a8709cb9",
   "metadata": {},
   "outputs": [],
   "source": [
    "# final_df = data_agumentation(df)"
   ]
  },
  {
   "cell_type": "code",
   "execution_count": 5,
   "id": "35601271",
   "metadata": {},
   "outputs": [],
   "source": [
    "# final_df"
   ]
  },
  {
   "cell_type": "code",
   "execution_count": 6,
   "id": "bb4866e2",
   "metadata": {},
   "outputs": [],
   "source": [
    "# df.to_csv('dataset.csv',index=False)"
   ]
  },
  {
   "cell_type": "code",
   "execution_count": 7,
   "id": "8e570c5a",
   "metadata": {},
   "outputs": [],
   "source": [
    "# df.isnull().sum()"
   ]
  },
  {
   "cell_type": "code",
   "execution_count": 8,
   "id": "cd76c32d",
   "metadata": {},
   "outputs": [
    {
     "name": "stdout",
     "output_type": "stream",
     "text": [
      "<class 'pandas.core.frame.DataFrame'>\n",
      "RangeIndex: 56076 entries, 0 to 56075\n",
      "Data columns (total 2 columns):\n",
      " #   Column   Non-Null Count  Dtype \n",
      "---  ------   --------------  ----- \n",
      " 0   comment  56076 non-null  object\n",
      " 1   label    56076 non-null  int64 \n",
      "dtypes: int64(1), object(1)\n",
      "memory usage: 876.3+ KB\n"
     ]
    }
   ],
   "source": [
    "df = pd.read_csv('dataset.csv')\n",
    "df.info()"
   ]
  },
  {
   "cell_type": "code",
   "execution_count": 9,
   "id": "b994310b",
   "metadata": {},
   "outputs": [
    {
     "data": {
      "image/png": "[encoded data removed]",
      "text/plain": [
       "<Figure size 800x600 with 1 Axes>"
      ]
     },
     "metadata": {},
     "output_type": "display_data"
    }
   ],
   "source": [
    "df2=df.copy(deep=True)\n",
    "pie1=pd.DataFrame(df['label'].replace(0,'Positive').replace(1,'Negative').value_counts())\n",
    "pie1.reset_index(inplace=True)\n",
    "pie1.plot(kind='pie', title='Pie chart of Sentiment Class',y = 'label', \n",
    "          autopct='%1.1f%%', shadow=False, labels=pie1['index'], legend = False, fontsize=14, figsize=(8,6));"
   ]
  },
  {
   "cell_type": "code",
   "execution_count": 10,
   "id": "ee0eadb6",
   "metadata": {},
   "outputs": [],
   "source": [
    "X_train, X_test, y_train, y_test = train_test_split(df.comment, df.label, test_size=0.2, random_state=42)"
   ]
  },
  {
   "cell_type": "code",
   "execution_count": 11,
   "id": "b4f7c17a",
   "metadata": {},
   "outputs": [],
   "source": [
    "stop_words = (u'rằng',u'thì',u'là',u'mà',u'và')"
   ]
  },
  {
   "cell_type": "code",
   "execution_count": 12,
   "id": "dca675fa",
   "metadata": {},
   "outputs": [
    {
     "data": {
      "text/html": [
       "<div>\n",
       "<style scoped>\n",
       "    .dataframe tbody tr th:only-of-type {\n",
       "        vertical-align: middle;\n",
       "    }\n",
       "\n",
       "    .dataframe tbody tr th {\n",
       "        vertical-align: top;\n",
       "    }\n",
       "\n",
       "    .dataframe thead th {\n",
       "        text-align: right;\n",
       "    }\n",
       "</style>\n",
       "<table border=\"1\" class=\"dataframe\">\n",
       "  <thead>\n",
       "    <tr style=\"text-align: right;\">\n",
       "      <th></th>\n",
       "      <th>precision</th>\n",
       "      <th>recall</th>\n",
       "      <th>f1-score</th>\n",
       "      <th>support</th>\n",
       "    </tr>\n",
       "  </thead>\n",
       "  <tbody>\n",
       "    <tr>\n",
       "      <th>1</th>\n",
       "      <td>0.869876</td>\n",
       "      <td>0.848708</td>\n",
       "      <td>0.859162</td>\n",
       "      <td>5301.000000</td>\n",
       "    </tr>\n",
       "    <tr>\n",
       "      <th>0</th>\n",
       "      <td>0.867306</td>\n",
       "      <td>0.886221</td>\n",
       "      <td>0.876662</td>\n",
       "      <td>5915.000000</td>\n",
       "    </tr>\n",
       "    <tr>\n",
       "      <th>accuracy</th>\n",
       "      <td>0.868491</td>\n",
       "      <td>0.868491</td>\n",
       "      <td>0.868491</td>\n",
       "      <td>0.868491</td>\n",
       "    </tr>\n",
       "    <tr>\n",
       "      <th>macro avg</th>\n",
       "      <td>0.868591</td>\n",
       "      <td>0.867465</td>\n",
       "      <td>0.867912</td>\n",
       "      <td>11216.000000</td>\n",
       "    </tr>\n",
       "    <tr>\n",
       "      <th>weighted avg</th>\n",
       "      <td>0.868521</td>\n",
       "      <td>0.868491</td>\n",
       "      <td>0.868391</td>\n",
       "      <td>11216.000000</td>\n",
       "    </tr>\n",
       "  </tbody>\n",
       "</table>\n",
       "</div>"
      ],
      "text/plain": [
       "              precision    recall  f1-score       support\n",
       "1              0.869876  0.848708  0.859162   5301.000000\n",
       "0              0.867306  0.886221  0.876662   5915.000000\n",
       "accuracy       0.868491  0.868491  0.868491      0.868491\n",
       "macro avg      0.868591  0.867465  0.867912  11216.000000\n",
       "weighted avg   0.868521  0.868491  0.868391  11216.000000"
      ]
     },
     "execution_count": 12,
     "metadata": {},
     "output_type": "execute_result"
    }
   ],
   "source": [
    "steps = []\n",
    "steps.append(('CountVectorizer', CountVectorizer(ngram_range=(1,3), stop_words=stop_words, min_df=1)))\n",
    "steps.append(('tfidf', TfidfTransformer(use_idf=True, sublinear_tf = True, norm='l2', smooth_idf=True)))\n",
    "steps.append(('model', LinearSVC(fit_intercept = False,multi_class='crammer_singer', C=0.5)))\n",
    "\n",
    "clf = Pipeline(steps)\n",
    "clf.fit(X_train, y_train)\n",
    "y_pred = clf.predict(X_test)\n",
    "\n",
    "#REPORT\n",
    "report = metrics.classification_report(y_test, y_pred, labels=[1,0], digits=3, output_dict=True)\n",
    "df_report = pd.DataFrame(report).transpose()\n",
    "df_report"
   ]
  },
  {
   "cell_type": "code",
   "execution_count": 13,
   "id": "30baff36",
   "metadata": {},
   "outputs": [
    {
     "name": "stdout",
     "output_type": "stream",
     "text": [
      "CROSS-VALIDATION 5 FOLDS: 0.862\n"
     ]
    }
   ],
   "source": [
    "# CROSS VALIDATION\n",
    "cross_score = cross_val_score(clf, X_train,y_train, cv=5)\n",
    "print(\"CROSS-VALIDATION 5 FOLDS: %0.3f\" % (cross_score.mean()))"
   ]
  },
  {
   "cell_type": "code",
   "execution_count": 14,
   "id": "f0a623e6",
   "metadata": {},
   "outputs": [
    {
     "name": "stdout",
     "output_type": "stream",
     "text": [
      "áo đẹp nhưng hơi rộng so với em tưởng không vẫn mặc được nhé mọi người positive positive  0\n",
      "đeo cả thág h ms đánh_giá đẹp rẻ do với giá giao cucg nhanh dép đẹp lắm nha mọi người ơi positive positive  0\n",
      "coi vì mê rock chứ cốt dở thật_sự nagative  1\n"
     ]
    }
   ],
   "source": [
    "list_cmt = ['Áo đẹp nhưng hơi rộng so với em tưởng,65kg vẫn mặc được nhé mn','Đeo cả thág h ms đánh giá đẹp rẻ do vs giá. Giao cucg nhanh. Dép đẹp lắm nha mn ơi','Coi vì mê rock chứ cốt dở thật sự']\n",
    "test_list = []\n",
    "for document in list_cmt:\n",
    "    document = preprocessing(str(document))\n",
    "    test_list.append(document)\n",
    "    \n",
    "pred = clf.predict(test_list)\n",
    "for i in range(3):\n",
    "    print(test_list[i],\" \",end=\"\")\n",
    "    print(pred[i])"
   ]
  },
  {
   "cell_type": "code",
   "execution_count": 15,
   "id": "df91c3a8",
   "metadata": {},
   "outputs": [
    {
     "name": "stdout",
     "output_type": "stream",
     "text": [
      "nhin con nay xấu the nagative\n",
      "nhin con nay xau the\n",
      "[1]\n"
     ]
    }
   ],
   "source": [
    "text = \"nhin con nay xau the\"\n",
    "b = preprocessing(text)\n",
    "print(b)\n",
    "print(text)\n",
    "print(clf.predict([b]))"
   ]
  },
  {
   "cell_type": "code",
   "execution_count": null,
   "id": "fef054ef",
   "metadata": {},
   "outputs": [],
   "source": []
  }
 ],
 "metadata": {
  "kernelspec": {
   "display_name": "Python 3 (ipykernel)",
   "language": "python",
   "name": "python3"
  },
  "language_info": {
   "codemirror_mode": {
    "name": "ipython",
    "version": 3
   },
   "file_extension": ".py",
   "mimetype": "text/x-python",
   "name": "python",
   "nbconvert_exporter": "python",
   "pygments_lexer": "ipython3",
   "version": "3.9.13"
  }
 },
 "nbformat": 4,
 "nbformat_minor": 5
}
