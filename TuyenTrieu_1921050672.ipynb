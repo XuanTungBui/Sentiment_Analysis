{
 "cells": [
  {
   "cell_type": "code",
   "execution_count": 1,
   "id": "30c21ff8",
   "metadata": {},
   "outputs": [],
   "source": [
    "from sklearn import metrics\n",
    "from sklearn.pipeline import Pipeline\n",
    "from sklearn.feature_extraction.text import CountVectorizer,TfidfTransformer\n",
    "from sklearn.model_selection import train_test_split\n",
    "from sklearn.model_selection import cross_val_score\n",
    "from sklearn.linear_model import LogisticRegression \n",
    "from sklearn.naive_bayes import MultinomialNB \n",
    "from preprocess_function import preprocessing\n",
    "import pandas as pd\n",
    "import matplotlib.pyplot as plt\n",
    "import warnings\n",
    "\n",
    "warnings.filterwarnings('ignore')"
   ]
  },
  {
   "cell_type": "code",
   "execution_count": 31,
   "id": "cd76c32d",
   "metadata": {},
   "outputs": [
    {
     "name": "stdout",
     "output_type": "stream",
     "text": [
      "<class 'pandas.core.frame.DataFrame'>\n",
      "RangeIndex: 56076 entries, 0 to 56075\n",
      "Data columns (total 2 columns):\n",
      " #   Column   Non-Null Count  Dtype \n",
      "---  ------   --------------  ----- \n",
      " 0   comment  56076 non-null  object\n",
      " 1   label    56076 non-null  int64 \n",
      "dtypes: int64(1), object(1)\n",
      "memory usage: 876.3+ KB\n"
     ]
    }
   ],
   "source": [
    "df = pd.read_csv('dataset.csv')\n",
    "df.info()"
   ]
  },
  {
   "cell_type": "code",
   "execution_count": 16,
   "id": "ee0eadb6",
   "metadata": {},
   "outputs": [],
   "source": [
    "X_train, X_test, y_train, y_test = train_test_split(df.comment, df.label, test_size=0.2, random_state=42)"
   ]
  },
  {
   "cell_type": "code",
   "execution_count": 57,
   "id": "dca675fa",
   "metadata": {},
   "outputs": [
    {
     "name": "stdout",
     "output_type": "stream",
     "text": [
      "              precision    recall  f1-score   support\n",
      "\n",
      "           1      0.877     0.821     0.848      5301\n",
      "           0      0.848     0.896     0.872      5915\n",
      "\n",
      "    accuracy                          0.861     11216\n",
      "   macro avg      0.862     0.859     0.860     11216\n",
      "weighted avg      0.862     0.861     0.860     11216\n",
      "\n"
     ]
    }
   ],
   "source": [
    "steps = []\n",
    "steps.append(('tfidf', TfidfVectorizer(ngram_range=(1,2))))\n",
    "steps.append(('model',MultinomialNB (alpha=1.0, fit_prior=bool, class_prior=None)))\n",
    "\n",
    "clf = Pipeline(steps)\n",
    "clf.fit(X_train, y_train)\n",
    "y_pred = clf.predict(X_test)\n",
    "\n",
    "\n",
    "report = metrics.classification_report(y_test, y_pred, labels=[1,0], digits=3)\n",
    "print(report)"
   ]
  },
  {
   "cell_type": "code",
   "execution_count": 58,
   "id": "30baff36",
   "metadata": {},
   "outputs": [
    {
     "name": "stdout",
     "output_type": "stream",
     "text": [
      "CROSS-VALIDATION 5 FOLDS: 0.856\n"
     ]
    }
   ],
   "source": [
    "# CROSS VALIDATION\n",
    "cross_score = cross_val_score(clf, X_train,y_train, cv=5)\n",
    "print(\"CROSS-VALIDATION 5 FOLDS: %0.3f\" % (cross_score.mean()))"
   ]
  },
  {
   "cell_type": "code",
   "execution_count": 59,
   "id": "f0a623e6",
   "metadata": {},
   "outputs": [
    {
     "name": "stdout",
     "output_type": "stream",
     "text": [
      "áo khá mỏng nagative  1\n",
      "số tiền rẻ phù_hợp với hàng positive  0\n",
      "bọc hàng hơi dở nagative  1\n"
     ]
    }
   ],
   "source": [
    "list_cmt = ['Áo khá mỏng', 'số tiền rẻ phù hợp với hàng','Bọc hàng hơi dở.']\n",
    "test_list = []\n",
    "n = len(list_cmt)\n",
    "for document in list_cmt:\n",
    "    document = preprocessing(str(document))\n",
    "    test_list.append(document)\n",
    "    \n",
    "pred = clf.predict(test_list)\n",
    "for i in range(n):\n",
    "    print(test_list[i],\" \",end=\"\")\n",
    "    print(pred[i])"
   ]
  },
  {
   "cell_type": "code",
   "execution_count": null,
   "id": "fef054ef",
   "metadata": {},
   "outputs": [],
   "source": []
  }
 ],
 "metadata": {
  "kernelspec": {
   "display_name": "Python 3",
   "language": "python",
   "name": "python3"
  },
  "language_info": {
   "codemirror_mode": {
    "name": "ipython",
    "version": 3
   },
   "file_extension": ".py",
   "mimetype": "text/x-python",
   "name": "python",
   "nbconvert_exporter": "python",
   "pygments_lexer": "ipython3",
   "version": "3.8.8"
  }
 },
 "nbformat": 4,
 "nbformat_minor": 5
}
