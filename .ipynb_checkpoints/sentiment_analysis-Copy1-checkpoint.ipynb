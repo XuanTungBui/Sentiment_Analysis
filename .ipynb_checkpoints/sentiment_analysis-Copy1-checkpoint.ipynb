{
 "cells": [
  {
   "cell_type": "code",
   "execution_count": 8,
   "id": "30c21ff8",
   "metadata": {},
   "outputs": [],
   "source": [
    "from sklearn import metrics\n",
    "from sklearn.pipeline import Pipeline\n",
    "from sklearn.feature_extraction.text import CountVectorizer,TfidfTransformer,TfidfVectorizer\n",
    "from sklearn.model_selection import train_test_split\n",
    "from sklearn.model_selection import cross_val_score\n",
    "from sklearn.svm import LinearSVC\n",
    "from preprocess_function import preprocessing\n",
    "import pandas as pd\n",
    "import matplotlib.pyplot as plt"
   ]
  },
  {
   "cell_type": "code",
   "execution_count": 3,
   "id": "cd76c32d",
   "metadata": {},
   "outputs": [
    {
     "data": {
      "text/html": [
       "<div>\n",
       "<style scoped>\n",
       "    .dataframe tbody tr th:only-of-type {\n",
       "        vertical-align: middle;\n",
       "    }\n",
       "\n",
       "    .dataframe tbody tr th {\n",
       "        vertical-align: top;\n",
       "    }\n",
       "\n",
       "    .dataframe thead th {\n",
       "        text-align: right;\n",
       "    }\n",
       "</style>\n",
       "<table border=\"1\" class=\"dataframe\">\n",
       "  <thead>\n",
       "    <tr style=\"text-align: right;\">\n",
       "      <th></th>\n",
       "      <th>comment</th>\n",
       "      <th>label</th>\n",
       "    </tr>\n",
       "  </thead>\n",
       "  <tbody>\n",
       "    <tr>\n",
       "      <th>0</th>\n",
       "      <td>đèn leb cửa_hàng gửi câu lộn dây gắn vào xe không sáng đèn cần lưu_ý hàn cho đúng cực_âm_dương nagative positive</td>\n",
       "      <td>1</td>\n",
       "    </tr>\n",
       "    <tr>\n",
       "      <th>1</th>\n",
       "      <td>một trong những khu mua_sắm lớn và quy_mô nhất nước với siêu_thị giant và các thương_hiệu thời_trang lớn levis gap các nhà_hàng chất_lượng bread talk cofe bean mof piza hut rạp chiếu_phim cgv khu ăn_uống với các món ăn nhật hàn thái tàu ngon và đa_dạng positive positive</td>\n",
       "      <td>0</td>\n",
       "    </tr>\n",
       "    <tr>\n",
       "      <th>2</th>\n",
       "      <td>hôm_nay nổi hứng lên viết review cho hanuri một trong những quán hq mình từng thích phải nói ngày đầu_tiên đi ăn ở đây cực thích luôn từ cái menu giá hợp_lí món ăn nhạc nghe cũng khoái còn giờ thì positive positive positive</td>\n",
       "      <td>1</td>\n",
       "    </tr>\n",
       "    <tr>\n",
       "      <th>3</th>\n",
       "      <td>ở khu này thì đồ_ăn như này là khá rẻ tuy_nhiên chất_lượng thì kém hoa_quả ăn chua quá kem thì ăn chán nhân_viên thì vồ_vập tuy_nhiên hàng này và các hàng khác vẫn khá đông khách sẽ quay lại nếu_như còn ít tiền mà không biết đi đâu positive nagative</td>\n",
       "      <td>1</td>\n",
       "    </tr>\n",
       "    <tr>\n",
       "      <th>4</th>\n",
       "      <td>ốc bẩn bát ốc được lèo_tèo vài con còn lại độn toàn sả ngao xào bơ tỏi toàn vỏ với giá trung_bình k k là quá đắt cho mấy cái vỏ chưa kể vấn_đề vệ_sinh an_toàn thực_phẩm nữa positive nagative</td>\n",
       "      <td>1</td>\n",
       "    </tr>\n",
       "    <tr>\n",
       "      <th>5</th>\n",
       "      <td>sản_phẩm không có hướng_dẫn sử_dụng sac pin notnag có đèn_báo</td>\n",
       "      <td>1</td>\n",
       "    </tr>\n",
       "    <tr>\n",
       "      <th>6</th>\n",
       "      <td>lần nào vào đây ăn buổi trưa quán lúc_nào cũng đông_nghịt ra nhưng đồ_ăn được phục_vụ ngày_càng nhanh hơn ngày trước đợi gần tiếng đồng_hồ mới có đồ ra positive</td>\n",
       "      <td>0</td>\n",
       "    </tr>\n",
       "    <tr>\n",
       "      <th>7</th>\n",
       "      <td>hủ_tiếu ngon positive</td>\n",
       "      <td>0</td>\n",
       "    </tr>\n",
       "    <tr>\n",
       "      <th>8</th>\n",
       "      <td>nc lẩu ngon đậm_đà ngon nhất là lòg càg để lâu càg nhừ càg mềm đi ng ăn no căg hể mỗi ng trug bình k hẹn quán cuối tuần lại đến ăn nướg positive positive nagative positive</td>\n",
       "      <td>0</td>\n",
       "    </tr>\n",
       "    <tr>\n",
       "      <th>9</th>\n",
       "      <td>đầu ti rất cứng notpos</td>\n",
       "      <td>1</td>\n",
       "    </tr>\n",
       "  </tbody>\n",
       "</table>\n",
       "</div>"
      ],
      "text/plain": [
       "                                                                                                                                                                                                                                                                          comment  \\\n",
       "0                                                                                                                                                                đèn leb cửa_hàng gửi câu lộn dây gắn vào xe không sáng đèn cần lưu_ý hàn cho đúng cực_âm_dương nagative positive   \n",
       "1  một trong những khu mua_sắm lớn và quy_mô nhất nước với siêu_thị giant và các thương_hiệu thời_trang lớn levis gap các nhà_hàng chất_lượng bread talk cofe bean mof piza hut rạp chiếu_phim cgv khu ăn_uống với các món ăn nhật hàn thái tàu ngon và đa_dạng positive positive   \n",
       "2                                                 hôm_nay nổi hứng lên viết review cho hanuri một trong những quán hq mình từng thích phải nói ngày đầu_tiên đi ăn ở đây cực thích luôn từ cái menu giá hợp_lí món ăn nhạc nghe cũng khoái còn giờ thì positive positive positive   \n",
       "3                       ở khu này thì đồ_ăn như này là khá rẻ tuy_nhiên chất_lượng thì kém hoa_quả ăn chua quá kem thì ăn chán nhân_viên thì vồ_vập tuy_nhiên hàng này và các hàng khác vẫn khá đông khách sẽ quay lại nếu_như còn ít tiền mà không biết đi đâu positive nagative   \n",
       "4                                                                                  ốc bẩn bát ốc được lèo_tèo vài con còn lại độn toàn sả ngao xào bơ tỏi toàn vỏ với giá trung_bình k k là quá đắt cho mấy cái vỏ chưa kể vấn_đề vệ_sinh an_toàn thực_phẩm nữa positive nagative   \n",
       "5                                                                                                                                                                                                                  sản_phẩm không có hướng_dẫn sử_dụng sac pin notnag có đèn_báo    \n",
       "6                                                                                                                lần nào vào đây ăn buổi trưa quán lúc_nào cũng đông_nghịt ra nhưng đồ_ăn được phục_vụ ngày_càng nhanh hơn ngày trước đợi gần tiếng đồng_hồ mới có đồ ra positive   \n",
       "7                                                                                                                                                                                                                                                           hủ_tiếu ngon positive   \n",
       "8                                                                                                     nc lẩu ngon đậm_đà ngon nhất là lòg càg để lâu càg nhừ càg mềm đi ng ăn no căg hể mỗi ng trug bình k hẹn quán cuối tuần lại đến ăn nướg positive positive nagative positive   \n",
       "9                                                                                                                                                                                                                                                         đầu ti rất cứng notpos    \n",
       "\n",
       "   label  \n",
       "0      1  \n",
       "1      0  \n",
       "2      1  \n",
       "3      1  \n",
       "4      1  \n",
       "5      1  \n",
       "6      0  \n",
       "7      0  \n",
       "8      0  \n",
       "9      1  "
      ]
     },
     "execution_count": 3,
     "metadata": {},
     "output_type": "execute_result"
    }
   ],
   "source": [
    "df = pd.read_csv('dataset.csv')"
   ]
  },
  {
   "cell_type": "code",
   "execution_count": 6,
   "id": "ee0eadb6",
   "metadata": {},
   "outputs": [],
   "source": [
    "X_train, X_test, y_train, y_test = train_test_split(df.comment, df.label, test_size=0.2, random_state=42)"
   ]
  },
  {
   "cell_type": "code",
   "execution_count": 52,
   "id": "dca675fa",
   "metadata": {},
   "outputs": [
    {
     "name": "stdout",
     "output_type": "stream",
     "text": [
      "[LibLinear]"
     ]
    },
    {
     "data": {
      "text/html": [
       "<div>\n",
       "<style scoped>\n",
       "    .dataframe tbody tr th:only-of-type {\n",
       "        vertical-align: middle;\n",
       "    }\n",
       "\n",
       "    .dataframe tbody tr th {\n",
       "        vertical-align: top;\n",
       "    }\n",
       "\n",
       "    .dataframe thead th {\n",
       "        text-align: right;\n",
       "    }\n",
       "</style>\n",
       "<table border=\"1\" class=\"dataframe\">\n",
       "  <thead>\n",
       "    <tr style=\"text-align: right;\">\n",
       "      <th></th>\n",
       "      <th>precision</th>\n",
       "      <th>recall</th>\n",
       "      <th>f1-score</th>\n",
       "      <th>support</th>\n",
       "    </tr>\n",
       "  </thead>\n",
       "  <tbody>\n",
       "    <tr>\n",
       "      <th>1</th>\n",
       "      <td>0.870374</td>\n",
       "      <td>0.856254</td>\n",
       "      <td>0.863256</td>\n",
       "      <td>5301.00000</td>\n",
       "    </tr>\n",
       "    <tr>\n",
       "      <th>0</th>\n",
       "      <td>0.873021</td>\n",
       "      <td>0.885714</td>\n",
       "      <td>0.879322</td>\n",
       "      <td>5915.00000</td>\n",
       "    </tr>\n",
       "    <tr>\n",
       "      <th>accuracy</th>\n",
       "      <td>0.871790</td>\n",
       "      <td>0.871790</td>\n",
       "      <td>0.871790</td>\n",
       "      <td>0.87179</td>\n",
       "    </tr>\n",
       "    <tr>\n",
       "      <th>macro avg</th>\n",
       "      <td>0.871698</td>\n",
       "      <td>0.870984</td>\n",
       "      <td>0.871289</td>\n",
       "      <td>11216.00000</td>\n",
       "    </tr>\n",
       "    <tr>\n",
       "      <th>weighted avg</th>\n",
       "      <td>0.871770</td>\n",
       "      <td>0.871790</td>\n",
       "      <td>0.871729</td>\n",
       "      <td>11216.00000</td>\n",
       "    </tr>\n",
       "  </tbody>\n",
       "</table>\n",
       "</div>"
      ],
      "text/plain": [
       "              precision    recall  f1-score      support\n",
       "1              0.870374  0.856254  0.863256   5301.00000\n",
       "0              0.873021  0.885714  0.879322   5915.00000\n",
       "accuracy       0.871790  0.871790  0.871790      0.87179\n",
       "macro avg      0.871698  0.870984  0.871289  11216.00000\n",
       "weighted avg   0.871770  0.871790  0.871729  11216.00000"
      ]
     },
     "execution_count": 52,
     "metadata": {},
     "output_type": "execute_result"
    }
   ],
   "source": [
    "steps = []\n",
    "steps.append(('CountVectorizer', CountVectorizer(ngram_range=(1,2), min_df=1)))\n",
    "steps.append(('tfidf', TfidfTransformer(use_idf=True, sublinear_tf = True, norm='l2', smooth_idf=True)))\n",
    "steps.append(('model',LinearSVC(fit_intercept = True, multi_class='crammer_singer', C=0.2175)))\n",
    "\n",
    "clf = Pipeline(steps)\n",
    "clf.fit(X_train, y_train)\n",
    "y_pred = clf.predict(X_test)\n",
    "\n",
    "#REPORT\n",
    "report = metrics.classification_report(y_test, y_pred, labels=[1,0], digits=3)\n",
    "print(df_report)"
   ]
  },
  {
   "cell_type": "code",
   "execution_count": 53,
   "id": "30baff36",
   "metadata": {},
   "outputs": [
    {
     "name": "stdout",
     "output_type": "stream",
     "text": [
      "[LibLinear][LibLinear][LibLinear][LibLinear][LibLinear]CROSS-VALIDATION 5 FOLDS: 0.862\n"
     ]
    }
   ],
   "source": [
    "# CROSS VALIDATION\n",
    "cross_score = cross_val_score(clf, X_train,y_train, cv=5)\n",
    "print(\"CROSS-VALIDATION 5 FOLDS: %0.3f\" % (cross_score.mean()))"
   ]
  }
 ],
 "metadata": {
  "kernelspec": {
   "display_name": "Python 3 (ipykernel)",
   "language": "python",
   "name": "python3"
  },
  "language_info": {
   "codemirror_mode": {
    "name": "ipython",
    "version": 3
   },
   "file_extension": ".py",
   "mimetype": "text/x-python",
   "name": "python",
   "nbconvert_exporter": "python",
   "pygments_lexer": "ipython3",
   "version": "3.9.13"
  }
 },
 "nbformat": 4,
 "nbformat_minor": 5
}
