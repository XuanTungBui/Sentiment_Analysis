{
 "cells": [
  {
   "cell_type": "code",
   "execution_count": 1,
   "id": "30c21ff8",
   "metadata": {},
   "outputs": [],
   "source": [
    "from sklearn import metrics\n",
    "from sklearn.pipeline import Pipeline\n",
    "from sklearn.feature_extraction.text import CountVectorizer,TfidfTransformer,TfidfVectorizer\n",
    "from sklearn.model_selection import train_test_split\n",
    "from sklearn.model_selection import cross_val_score\n",
    "from sklearn.svm import LinearSVC\n",
    "\n",
    "from preprocess_function import preprocessing\n",
    "import pandas as pd\n",
    "import matplotlib.pyplot as plt\n",
    "import warnings\n",
    "\n",
    "warnings.filterwarnings('ignore')"
   ]
  },
  {
   "cell_type": "code",
   "execution_count": 2,
   "id": "fb79e50f",
   "metadata": {},
   "outputs": [],
   "source": [
    "pd.set_option('display.max_colwidth', None)"
   ]
  },
  {
   "cell_type": "code",
   "execution_count": 3,
   "id": "cd76c32d",
   "metadata": {},
   "outputs": [
    {
     "data": {
      "text/html": [
       "<div>\n",
       "<style scoped>\n",
       "    .dataframe tbody tr th:only-of-type {\n",
       "        vertical-align: middle;\n",
       "    }\n",
       "\n",
       "    .dataframe tbody tr th {\n",
       "        vertical-align: top;\n",
       "    }\n",
       "\n",
       "    .dataframe thead th {\n",
       "        text-align: right;\n",
       "    }\n",
       "</style>\n",
       "<table border=\"1\" class=\"dataframe\">\n",
       "  <thead>\n",
       "    <tr style=\"text-align: right;\">\n",
       "      <th></th>\n",
       "      <th>comment</th>\n",
       "      <th>label</th>\n",
       "    </tr>\n",
       "  </thead>\n",
       "  <tbody>\n",
       "    <tr>\n",
       "      <th>0</th>\n",
       "      <td>đèn leb cửa_hàng gửi câu lộn dây gắn vào xe không sáng đèn cần lưu_ý hàn cho đúng cực_âm_dương nagative positive</td>\n",
       "      <td>1</td>\n",
       "    </tr>\n",
       "    <tr>\n",
       "      <th>1</th>\n",
       "      <td>một trong những khu mua_sắm lớn và quy_mô nhất nước với siêu_thị giant và các thương_hiệu thời_trang lớn levis gap các nhà_hàng chất_lượng bread talk cofe bean mof piza hut rạp chiếu_phim cgv khu ăn_uống với các món ăn nhật hàn thái tàu ngon và đa_dạng positive positive</td>\n",
       "      <td>0</td>\n",
       "    </tr>\n",
       "    <tr>\n",
       "      <th>2</th>\n",
       "      <td>hôm_nay nổi hứng lên viết review cho hanuri một trong những quán hq mình từng thích phải nói ngày đầu_tiên đi ăn ở đây cực thích luôn từ cái menu giá hợp_lí món ăn nhạc nghe cũng khoái còn giờ thì positive positive positive</td>\n",
       "      <td>1</td>\n",
       "    </tr>\n",
       "    <tr>\n",
       "      <th>3</th>\n",
       "      <td>ở khu này thì đồ_ăn như này là khá rẻ tuy_nhiên chất_lượng thì kém hoa_quả ăn chua quá kem thì ăn chán nhân_viên thì vồ_vập tuy_nhiên hàng này và các hàng khác vẫn khá đông khách sẽ quay lại nếu_như còn ít tiền mà không biết đi đâu positive nagative</td>\n",
       "      <td>1</td>\n",
       "    </tr>\n",
       "    <tr>\n",
       "      <th>4</th>\n",
       "      <td>ốc bẩn bát ốc được lèo_tèo vài con còn lại độn toàn sả ngao xào bơ tỏi toàn vỏ với giá trung_bình k k là quá đắt cho mấy cái vỏ chưa kể vấn_đề vệ_sinh an_toàn thực_phẩm nữa positive nagative</td>\n",
       "      <td>1</td>\n",
       "    </tr>\n",
       "    <tr>\n",
       "      <th>5</th>\n",
       "      <td>sản_phẩm không có hướng_dẫn sử_dụng sac pin notnag có đèn_báo</td>\n",
       "      <td>1</td>\n",
       "    </tr>\n",
       "    <tr>\n",
       "      <th>6</th>\n",
       "      <td>lần nào vào đây ăn buổi trưa quán lúc_nào cũng đông_nghịt ra nhưng đồ_ăn được phục_vụ ngày_càng nhanh hơn ngày trước đợi gần tiếng đồng_hồ mới có đồ ra positive</td>\n",
       "      <td>0</td>\n",
       "    </tr>\n",
       "    <tr>\n",
       "      <th>7</th>\n",
       "      <td>hủ_tiếu ngon positive</td>\n",
       "      <td>0</td>\n",
       "    </tr>\n",
       "    <tr>\n",
       "      <th>8</th>\n",
       "      <td>nc lẩu ngon đậm_đà ngon nhất là lòg càg để lâu càg nhừ càg mềm đi ng ăn no căg hể mỗi ng trug bình k hẹn quán cuối tuần lại đến ăn nướg positive positive nagative positive</td>\n",
       "      <td>0</td>\n",
       "    </tr>\n",
       "    <tr>\n",
       "      <th>9</th>\n",
       "      <td>đầu ti rất cứng notpos</td>\n",
       "      <td>1</td>\n",
       "    </tr>\n",
       "  </tbody>\n",
       "</table>\n",
       "</div>"
      ],
      "text/plain": [
       "                                                                                                                                                                                                                                                                          comment  \\\n",
       "0                                                                                                                                                                đèn leb cửa_hàng gửi câu lộn dây gắn vào xe không sáng đèn cần lưu_ý hàn cho đúng cực_âm_dương nagative positive   \n",
       "1  một trong những khu mua_sắm lớn và quy_mô nhất nước với siêu_thị giant và các thương_hiệu thời_trang lớn levis gap các nhà_hàng chất_lượng bread talk cofe bean mof piza hut rạp chiếu_phim cgv khu ăn_uống với các món ăn nhật hàn thái tàu ngon và đa_dạng positive positive   \n",
       "2                                                 hôm_nay nổi hứng lên viết review cho hanuri một trong những quán hq mình từng thích phải nói ngày đầu_tiên đi ăn ở đây cực thích luôn từ cái menu giá hợp_lí món ăn nhạc nghe cũng khoái còn giờ thì positive positive positive   \n",
       "3                       ở khu này thì đồ_ăn như này là khá rẻ tuy_nhiên chất_lượng thì kém hoa_quả ăn chua quá kem thì ăn chán nhân_viên thì vồ_vập tuy_nhiên hàng này và các hàng khác vẫn khá đông khách sẽ quay lại nếu_như còn ít tiền mà không biết đi đâu positive nagative   \n",
       "4                                                                                  ốc bẩn bát ốc được lèo_tèo vài con còn lại độn toàn sả ngao xào bơ tỏi toàn vỏ với giá trung_bình k k là quá đắt cho mấy cái vỏ chưa kể vấn_đề vệ_sinh an_toàn thực_phẩm nữa positive nagative   \n",
       "5                                                                                                                                                                                                                  sản_phẩm không có hướng_dẫn sử_dụng sac pin notnag có đèn_báo    \n",
       "6                                                                                                                lần nào vào đây ăn buổi trưa quán lúc_nào cũng đông_nghịt ra nhưng đồ_ăn được phục_vụ ngày_càng nhanh hơn ngày trước đợi gần tiếng đồng_hồ mới có đồ ra positive   \n",
       "7                                                                                                                                                                                                                                                           hủ_tiếu ngon positive   \n",
       "8                                                                                                     nc lẩu ngon đậm_đà ngon nhất là lòg càg để lâu càg nhừ càg mềm đi ng ăn no căg hể mỗi ng trug bình k hẹn quán cuối tuần lại đến ăn nướg positive positive nagative positive   \n",
       "9                                                                                                                                                                                                                                                         đầu ti rất cứng notpos    \n",
       "\n",
       "   label  \n",
       "0      1  \n",
       "1      0  \n",
       "2      1  \n",
       "3      1  \n",
       "4      1  \n",
       "5      1  \n",
       "6      0  \n",
       "7      0  \n",
       "8      0  \n",
       "9      1  "
      ]
     },
     "execution_count": 3,
     "metadata": {},
     "output_type": "execute_result"
    }
   ],
   "source": [
    "df = pd.read_csv('dataset.csv')\n",
    "df.head(10)"
   ]
  },
  {
   "cell_type": "code",
   "execution_count": 4,
   "id": "b994310b",
   "metadata": {},
   "outputs": [
    {
     "data": {
      "image/png": "[encoded data removed]",
      "text/plain": [
       "<Figure size 800x600 with 1 Axes>"
      ]
     },
     "metadata": {},
     "output_type": "display_data"
    }
   ],
   "source": [
    "df2=df.copy(deep=True)\n",
    "pie1=pd.DataFrame(df['label'].replace(0,'Positive').replace(1,'Negative').value_counts())\n",
    "pie1.reset_index(inplace=True)\n",
    "pie1.plot(kind='pie', title='Pie chart of Sentiment Class',y = 'label', \n",
    "          autopct='%1.1f%%', shadow=False, labels=pie1['index'], legend = False, fontsize=14, figsize=(8,6));"
   ]
  },
  {
   "cell_type": "code",
   "execution_count": 5,
   "id": "ee0eadb6",
   "metadata": {},
   "outputs": [],
   "source": [
    "X_train, X_test, y_train, y_test = train_test_split(df.comment, df.label, test_size=0.2, random_state=42)"
   ]
  },
  {
   "cell_type": "code",
   "execution_count": 12,
   "id": "dca675fa",
   "metadata": {},
   "outputs": [
    {
     "data": {
      "text/html": [
       "<div>\n",
       "<style scoped>\n",
       "    .dataframe tbody tr th:only-of-type {\n",
       "        vertical-align: middle;\n",
       "    }\n",
       "\n",
       "    .dataframe tbody tr th {\n",
       "        vertical-align: top;\n",
       "    }\n",
       "\n",
       "    .dataframe thead th {\n",
       "        text-align: right;\n",
       "    }\n",
       "</style>\n",
       "<table border=\"1\" class=\"dataframe\">\n",
       "  <thead>\n",
       "    <tr style=\"text-align: right;\">\n",
       "      <th></th>\n",
       "      <th>precision</th>\n",
       "      <th>recall</th>\n",
       "      <th>f1-score</th>\n",
       "      <th>support</th>\n",
       "    </tr>\n",
       "  </thead>\n",
       "  <tbody>\n",
       "    <tr>\n",
       "      <th>1</th>\n",
       "      <td>0.869240</td>\n",
       "      <td>0.853990</td>\n",
       "      <td>0.861547</td>\n",
       "      <td>5301.000000</td>\n",
       "    </tr>\n",
       "    <tr>\n",
       "      <th>0</th>\n",
       "      <td>0.871172</td>\n",
       "      <td>0.884869</td>\n",
       "      <td>0.877967</td>\n",
       "      <td>5915.000000</td>\n",
       "    </tr>\n",
       "    <tr>\n",
       "      <th>accuracy</th>\n",
       "      <td>0.870275</td>\n",
       "      <td>0.870275</td>\n",
       "      <td>0.870275</td>\n",
       "      <td>0.870275</td>\n",
       "    </tr>\n",
       "    <tr>\n",
       "      <th>macro avg</th>\n",
       "      <td>0.870206</td>\n",
       "      <td>0.869429</td>\n",
       "      <td>0.869757</td>\n",
       "      <td>11216.000000</td>\n",
       "    </tr>\n",
       "    <tr>\n",
       "      <th>weighted avg</th>\n",
       "      <td>0.870259</td>\n",
       "      <td>0.870275</td>\n",
       "      <td>0.870207</td>\n",
       "      <td>11216.000000</td>\n",
       "    </tr>\n",
       "  </tbody>\n",
       "</table>\n",
       "</div>"
      ],
      "text/plain": [
       "              precision    recall  f1-score       support\n",
       "1              0.869240  0.853990  0.861547   5301.000000\n",
       "0              0.871172  0.884869  0.877967   5915.000000\n",
       "accuracy       0.870275  0.870275  0.870275      0.870275\n",
       "macro avg      0.870206  0.869429  0.869757  11216.000000\n",
       "weighted avg   0.870259  0.870275  0.870207  11216.000000"
      ]
     },
     "execution_count": 12,
     "metadata": {},
     "output_type": "execute_result"
    }
   ],
   "source": [
    "steps = []\n",
    "steps.append(('CountVectorizer', CountVectorizer(ngram_range=(1,2))))\n",
    "steps.append(('tfidf', TfidfTransformer(sublinear_tf = True)))\n",
    "steps.append(('model',LinearSVC(fit_intercept = True, multi_class='crammer_singer', C=0.2175)))\n",
    "\n",
    "clf = Pipeline(steps)\n",
    "clf.fit(X_train, y_train)\n",
    "y_pred = clf.predict(X_test)\n",
    "\n",
    "#REPORT\n",
    "report = metrics.classification_report(y_test, y_pred, labels=[1,0], digits=3, output_dict=True)\n",
    "df_report = pd.DataFrame(report).transpose()\n",
    "df_report"
   ]
  },
  {
   "cell_type": "code",
   "execution_count": 7,
   "id": "30baff36",
   "metadata": {},
   "outputs": [
    {
     "name": "stdout",
     "output_type": "stream",
     "text": [
      "[LibLinear][LibLinear][LibLinear][LibLinear][LibLinear]CROSS-VALIDATION 5 FOLDS: 0.862\n"
     ]
    }
   ],
   "source": [
    "# CROSS VALIDATION\n",
    "cross_score = cross_val_score(clf, X_train,y_train, cv=5)\n",
    "print(\"CROSS-VALIDATION 5 FOLDS: %0.3f\" % (cross_score.mean()))"
   ]
  },
  {
   "cell_type": "code",
   "execution_count": 54,
   "id": "454a0174",
   "metadata": {},
   "outputs": [
    {
     "name": "stdout",
     "output_type": "stream",
     "text": [
      "0.8717902995720399\n"
     ]
    }
   ],
   "source": [
    "from sklearn.metrics import accuracy_score\n",
    "print(accuracy_score(y_test,y_pred))"
   ]
  },
  {
   "cell_type": "code",
   "execution_count": 55,
   "id": "be096bac",
   "metadata": {},
   "outputs": [
    {
     "data": {
      "image/png": "[encoded data removed]",
      "text/plain": [
       "<Figure size 500x500 with 2 Axes>"
      ]
     },
     "metadata": {},
     "output_type": "display_data"
    }
   ],
   "source": [
    "from sklearn.metrics import confusion_matrix\n",
    "import matplotlib.pyplot as plt\n",
    "import numpy as np\n",
    "import seaborn as sns\n",
    "\n",
    "\n",
    "result = confusion_matrix(y_test,y_pred)\n",
    "\n",
    "f, ax=plt.subplots(figsize=(5,5))\n",
    "sns.heatmap(result,annot=True,linewidths=0.5,cmap='Blues',fmt=\".0f\",ax=ax)\n",
    "plt.xlabel(\"y_pred\")\n",
    "plt.ylabel(\"y_true\")\n",
    "plt.show()"
   ]
  },
  {
   "cell_type": "code",
   "execution_count": 57,
   "id": "cfaaeebf",
   "metadata": {},
   "outputs": [],
   "source": [
    "test_data = pd.read_csv('test.csv')"
   ]
  },
  {
   "cell_type": "code",
   "execution_count": 59,
   "id": "74141c40",
   "metadata": {},
   "outputs": [],
   "source": [
    "test_list = []\n",
    "for document in test_data.comment:\n",
    "    document = preprocessing(str(document))\n",
    "    test_list.append(document)\n",
    "    \n",
    "y_predict = clf.predict(test_list)\n",
    "test_data['label'] = y_predict\n",
    "test_data = test_data.sort_values(by=['label'])\n",
    "test_data[['id', 'label']].to_csv('submit.csv', index=False)"
   ]
  },
  {
   "cell_type": "code",
   "execution_count": 56,
   "id": "f0a623e6",
   "metadata": {},
   "outputs": [
    {
     "name": "stdout",
     "output_type": "stream",
     "text": [
      "áo đẹp nhưng hơi rộng so với em tưởng không vẫn mặc được nhé mọi người  0\n",
      "đeo cả thág h ms đánh_giá đẹp rẻ do với giá giao cucg nhanh dép đẹp lắm nha mọi người ơi  0\n",
      "coi vì mê rock chứ cốt dở thật_sự  1\n"
     ]
    }
   ],
   "source": [
    "list_cmt = ['Áo đẹp nhưng hơi rộng so với em tưởng,65kg vẫn mặc được nhé mn','Đeo cả thág h ms đánh giá đẹp rẻ do vs giá. Giao cucg nhanh. Dép đẹp lắm nha mn ơi','Coi vì mê rock chứ cốt dở thật sự']\n",
    "test_list = []\n",
    "for document in list_cmt:\n",
    "    document = preprocessing(str(document))\n",
    "    test_list.append(document)\n",
    "    \n",
    "pred = clf.predict(test_list)\n",
    "for i in range(3):\n",
    "    print(test_list[i],\" \",end=\"\")\n",
    "    print(pred[i])"
   ]
  }
 ],
 "metadata": {
  "kernelspec": {
   "display_name": "Python 3 (ipykernel)",
   "language": "python",
   "name": "python3"
  },
  "language_info": {
   "codemirror_mode": {
    "name": "ipython",
    "version": 3
   },
   "file_extension": ".py",
   "mimetype": "text/x-python",
   "name": "python",
   "nbconvert_exporter": "python",
   "pygments_lexer": "ipython3",
   "version": "3.9.13"
  }
 },
 "nbformat": 4,
 "nbformat_minor": 5
}
